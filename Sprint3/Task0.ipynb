{
 "cells": [
  {
   "cell_type": "markdown",
   "metadata": {},
   "source": [
    "<h1 style=\"color:DodgerBlue\">Понятие полиморфизма</h1>\n",
    "\n",
    "### Понятие полиморфизма в C# с параметрами\n",
    "\n",
    "Полиморфизм в объектно-ориентированном программировании позволяет объектам разных классов обрабатывать одни и те же сообщения по-разному. В C#, полиморфизм часто реализуется через наследование и переопределение методов. Давайте рассмотрим пример с классами `Vehicle`, `Car` и `Motorcycle`, чтобы продемонстрировать, как полиморфизм работает с параметрами.\n",
    "\n",
    "#### Определение классов\n",
    "\n",
    "Сначала определим базовый класс `Vehicle` с виртуальным методом `Drive()`, который принимает параметры. Затем создадим два производных класса: `Car` и `Motorcycle`, которые переопределят этот метод.\n",
    "\n",
    "```csharp\n",
    "// Базовый класс Vehicle с виртуальным методом Drive(), принимающим параметры\n",
    "public class Vehicle\n",
    "{\n",
    "    public virtual void Drive(int speed)\n",
    "    {\n",
    "        Console.WriteLine($\"Транспорт движется {speed} km/h.\");\n",
    "    }\n",
    "}\n",
    "\n",
    "// Производный класс Car, переопределяющий метод Drive()\n",
    "public class Car : Vehicle\n",
    "{\n",
    "    public override void Drive(int speed)\n",
    "    {\n",
    "        Console.WriteLine($\"Автомобиль движется {speed} km/h.\");\n",
    "    }\n",
    "}\n",
    "\n",
    "// Производный класс Motorcycle, также переопределяющий метод Drive()\n",
    "public class Motorcycle : Vehicle\n",
    "{\n",
    "    public override void Drive(int speed)\n",
    "    {\n",
    "        Console.WriteLine($\"Мотоцикл движется {speed} km/h.\");\n",
    "    }\n",
    "}\n",
    "```\n",
    "\n",
    "#### Использование полиморфизма\n",
    "\n",
    "Теперь создадим список объектов типа `Vehicle` и добавим в него экземпляры `Car` и `Motorcycle`. Затем вызовем метод `Drive()` для каждого элемента списка, передавая разные скорости. Это демонстрирует, как полиморфизм позволяет нам работать с объектами разных типов через общий интерфейс, но при этом выполнять различные действия в зависимости от \"реального\" типа объекта.\n",
    "\n",
    "```csharp\n",
    "List<Vehicle> vehicles = new List<Vehicle>\n",
    "{\n",
    "    new Car(),\n",
    "    new Motorcycle(),\n",
    "    new Vehicle() // Добавляем экземпляр базового класса для демонстрации\n",
    "};\n",
    "\n",
    "foreach (var vehicle in vehicles)\n",
    "{\n",
    "    vehicle.Drive(100); // Вызываем метод Drive() \n",
    "}\n",
    "\n",
    "```\n",
    "\n",
    "В результате выполнения этого кода, каждый объект в списке вызывает свою версию метода `Drive()`, демонстрируя, что при работе с объектами через базовый класс (`Vehicle`) можно достичь различных действий в зависимости от \"реального\" типа объекта, даже когда используются разные скорости.\n",
    "\n",
    "Этот пример иллюстрирует ключевое понятие полиморфизма в ООП: возможность работы с объектами разных типов через общий интерфейс или базовый класс, что позволяет писать более гибкий и расширяемый код."
   ]
  },
  {
   "cell_type": "markdown",
   "metadata": {},
   "source": [
    "<h4 style=\"color:DodgerBlue\">Для проверки напишите пример кода на основе классов Vehicle, Car и Motorcycle ниже в блоке:</h4>\n",
    "\n",
    "----"
   ]
  },
  {
   "cell_type": "code",
   "execution_count": 1,
   "metadata": {
    "dotnet_interactive": {
     "language": "csharp"
    },
    "polyglot_notebook": {
     "kernelName": "csharp"
    }
   },
   "outputs": [
    {
     "name": "stdout",
     "output_type": "stream",
     "text": [
      "Транспорт движется 40 km/h.\n",
      "Автомобиль движется 100 km/h.\n",
      "Мотоцикл движется 120 km/h.\n"
     ]
    }
   ],
   "source": [
    "public class Vehicle\n",
    "{\n",
    "    public virtual void Drive(int speed)\n",
    "    {\n",
    "        Console.WriteLine($\"Транспорт движется {speed} km/h.\");\n",
    "    }\n",
    "}\n",
    "\n",
    "public class Car : Vehicle\n",
    "{\n",
    "    public override void Drive(int speed)\n",
    "    {\n",
    "        Console.WriteLine($\"Автомобиль движется {speed} km/h.\");\n",
    "    }\n",
    "}\n",
    "\n",
    "public class Motorcycle : Vehicle\n",
    "{\n",
    "    public override void Drive(int speed)\n",
    "    {\n",
    "        Console.WriteLine($\"Мотоцикл движется {speed} km/h.\");\n",
    "    }\n",
    "}\n",
    "\n",
    "Vehicle v = new Vehicle();\n",
    "Vehicle car = new Car();\n",
    "Vehicle moto = new Motorcycle();\n",
    "\n",
    "v.Drive(40);\n",
    "car.Drive(100);\n",
    "moto.Drive(120);"
   ]
  },
  {
   "cell_type": "markdown",
   "metadata": {},
   "source": [
    "<h4 style=\"color:Red\">Задание:</h4>\n",
    "\n",
    "----\n",
    "\n",
    "Ниже в блоке по примеру создайте базовый класс Animal и производные классы (3-4 например Dog, Cat, Bird и так далее) реализуйте структуру и объявление класса, включая свойства, геттеры и сеттеры, а также механизм полиморфизм."
   ]
  },
  {
   "cell_type": "code",
   "execution_count": 2,
   "metadata": {
    "dotnet_interactive": {
     "language": "csharp"
    },
    "polyglot_notebook": {
     "kernelName": "csharp"
    }
   },
   "outputs": [
    {
     "name": "stdout",
     "output_type": "stream",
     "text": [
      "Информация о животных:\n",
      "\n",
      "Имя: Бобик, Возраст: 3\n",
      "Бобик лает: Гав-гав!\n",
      "\n",
      "Имя: Мурка, Возраст: 2\n",
      "Мурка мяукает: Мяу!\n",
      "\n",
      "Имя: Кеша, Возраст: 1\n",
      "Кеша поет: Чирик-чирик!\n",
      "\n"
     ]
    }
   ],
   "source": [
    "// Базовый класс\n",
    "    public class Animal\n",
    "    {\n",
    "        public string Name { get; set; }\n",
    "        public int Age { get; set; }\n",
    "\n",
    "        public Animal(string name, int age)\n",
    "        {\n",
    "            Name = name;\n",
    "            Age = age;\n",
    "        }\n",
    "\n",
    "        public virtual void Speak()\n",
    "        {\n",
    "            Console.WriteLine(\"Животное издает звук\");\n",
    "        }\n",
    "    }\n",
    "\n",
    "    // Производный класс — Собака\n",
    "    public class Dog : Animal\n",
    "    {\n",
    "        public string Breed { get; set; }\n",
    "\n",
    "        public Dog(string name, int age, string breed) : base(name, age)\n",
    "        {\n",
    "            Breed = breed;\n",
    "        }\n",
    "\n",
    "        public override void Speak()\n",
    "        {\n",
    "            Console.WriteLine($\"{Name} лает: Гав-гав!\");\n",
    "        }\n",
    "    }\n",
    "\n",
    "    // Производный класс — Кошка\n",
    "    public class Cat : Animal\n",
    "    {\n",
    "        public string Color { get; set; }\n",
    "\n",
    "        public Cat(string name, int age, string color) : base(name, age)\n",
    "        {\n",
    "            Color = color;\n",
    "        }\n",
    "\n",
    "        public override void Speak()\n",
    "        {\n",
    "            Console.WriteLine($\"{Name} мяукает: Мяу!\");\n",
    "        }\n",
    "    }\n",
    "\n",
    "    // Производный класс — Птица\n",
    "    public class Bird : Animal\n",
    "    {\n",
    "        public double WingSpan { get; set; }\n",
    "\n",
    "        public Bird(string name, int age, double wingSpan) : base(name, age)\n",
    "        {\n",
    "            WingSpan = wingSpan;\n",
    "        }\n",
    "\n",
    "        public override void Speak()\n",
    "        {\n",
    "            Console.WriteLine($\"{Name} поет: Чирик-чирик!\");\n",
    "        }\n",
    "    }\n",
    "\n",
    "\n",
    "\n",
    "Animal dog = new Dog(\"Бобик\", 3, \"Овчарка\");\n",
    "Animal cat = new Cat(\"Мурка\", 2, \"Серая\");\n",
    "Animal bird = new Bird(\"Кеша\", 1, 0.25);\n",
    "\n",
    "Console.WriteLine(\"Информация о животных:\\n\");\n",
    "\n",
    "Console.WriteLine($\"Имя: {dog.Name}, Возраст: {dog.Age}\");\n",
    "dog.Speak();\n",
    "Console.WriteLine();\n",
    "\n",
    "Console.WriteLine($\"Имя: {cat.Name}, Возраст: {cat.Age}\");\n",
    "cat.Speak();\n",
    "Console.WriteLine();\n",
    "\n",
    "Console.WriteLine($\"Имя: {bird.Name}, Возраст: {bird.Age}\");\n",
    "bird.Speak();\n",
    "Console.WriteLine();"
   ]
  }
 ],
 "metadata": {
  "kernelspec": {
   "display_name": ".NET (C#)",
   "language": "C#",
   "name": ".net-csharp"
  },
  "polyglot_notebook": {
   "kernelInfo": {
    "defaultKernelName": "csharp",
    "items": [
     {
      "aliases": [],
      "languageName": "csharp",
      "name": "csharp"
     }
    ]
   }
  }
 },
 "nbformat": 4,
 "nbformat_minor": 2
}
