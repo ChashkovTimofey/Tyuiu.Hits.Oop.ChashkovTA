{
 "cells": [
  {
   "cell_type": "markdown",
   "metadata": {},
   "source": [
    "<h1 style=\"color:DodgerBlue\">Индивидальный проект</h1>"
   ]
  },
  {
   "cell_type": "markdown",
   "metadata": {},
   "source": [
    "<h2 style=\"color:DodgerBlue\">Название проекта:</h2>\n",
    "\n",
    "----\n",
    "\n",
    "### Вариант задания \n"
   ]
  },
  {
   "cell_type": "markdown",
   "metadata": {},
   "source": [
    "<h2 style=\"color:DodgerBlue\">Описание проекта:</h2>\n",
    "\n",
    "----\n",
    "\n",
    "[ваш текст]\n"
   ]
  },
  {
   "cell_type": "markdown",
   "metadata": {},
   "source": [
    "<h2 style=\"color:DodgerBlue\">Реализация:</h2>\n",
    "\n",
    "----"
   ]
  },
  {
   "cell_type": "code",
   "execution_count": 2,
   "metadata": {
    "dotnet_interactive": {
     "language": "csharp"
    },
    "polyglot_notebook": {
     "kernelName": "csharp"
    }
   },
   "outputs": [],
   "source": [
    "using System;\n",
    "public interface IAnimal\n",
    "{\n",
    "    string Name { get; set; }\n",
    "    void MakeSound();\n",
    "}\n",
    "\n",
    "public class Dog : IAnimal\n",
    "{\n",
    "    public string Name { get; set; }\n",
    "\n",
    "    public Dog(string name) { Name = name; }\n",
    "\n",
    "    public void MakeSound() => Console.WriteLine($\"{Name} лает: Гав-гав!\");\n",
    "}\n",
    "\n",
    "public class Cat : IAnimal\n",
    "{\n",
    "    public string Name { get; set; }\n",
    "\n",
    "    public Cat(string name) { Name = name; }\n",
    "\n",
    "    public void MakeSound() => Console.WriteLine($\"{Name} мяукает: Мяу!\");\n",
    "}\n",
    "\n",
    "public class Zoo\n",
    "{\n",
    "    private readonly List<IAnimal> animals = new List<IAnimal>();\n",
    "\n",
    "    public void AddAnimal(IAnimal animal)\n",
    "    {\n",
    "        animals.Add(animal);\n",
    "    }\n",
    "\n",
    "    public void HearAllAnimals()\n",
    "    {\n",
    "        foreach (var animal in animals)\n",
    "        {\n",
    "            animal.MakeSound();\n",
    "        }\n",
    "    }\n",
    "}\n",
    "\n",
    "// Использование // main\n",
    "Zoo zoo = new Zoo();\n",
    "\n",
    "zoo.AddAnimal(new Dog(\"Шарик\"));\n",
    "zoo.AddAnimal(new Cat(\"Мурка\"));\n",
    "\n",
    "zoo.HearAllAnimals();"
   ]
  }
 ],
 "metadata": {
  "kernelspec": {
   "display_name": ".NET (C#)",
   "language": "C#",
   "name": ".net-csharp"
  },
  "polyglot_notebook": {
   "kernelInfo": {
    "defaultKernelName": "csharp",
    "items": [
     {
      "aliases": [],
      "languageName": "csharp",
      "name": "csharp"
     }
    ]
   }
  }
 },
 "nbformat": 4,
 "nbformat_minor": 2
}
