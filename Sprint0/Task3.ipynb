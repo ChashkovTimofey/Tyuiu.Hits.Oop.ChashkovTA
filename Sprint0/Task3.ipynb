{
 "cells": [
  {
   "cell_type": "markdown",
   "metadata": {},
   "source": [
    "<h1 style=\"color:DodgerBlue\">Индивидальный проект</h1>"
   ]
  },
  {
   "cell_type": "markdown",
   "metadata": {},
   "source": [
    "<h2 style=\"color:DodgerBlue\">Название проекта:</h2>\n",
    "\n",
    "----\n",
    "\n",
    "### Вариант задания \n"
   ]
  },
  {
   "cell_type": "markdown",
   "metadata": {},
   "source": [
    "<h2 style=\"color:DodgerBlue\">Описание проекта:</h2>\n",
    "\n",
    "----\n",
    "\n",
    "[ваш текст]\n"
   ]
  },
  {
   "cell_type": "markdown",
   "metadata": {},
   "source": [
    "<h2 style=\"color:DodgerBlue\">Реализация:</h2>\n",
    "\n",
    "----"
   ]
  },
  {
   "cell_type": "code",
   "execution_count": 10,
   "metadata": {
    "dotnet_interactive": {
     "language": "csharp"
    },
    "polyglot_notebook": {
     "kernelName": "csharp"
    }
   },
   "outputs": [
    {
     "name": "stdout",
     "output_type": "stream",
     "text": [
      "\n",
      "--- Студенческий счет ---\n",
      "На счет 1 внесено 500. Баланс: 1500\n",
      "Студенту начислены проценты 37.500 (ставка 2.5%). Баланс: 1537.500\n",
      "\n",
      "--- Премиум счет ---\n",
      "Нельзя снять 4500, минимальный баланс должен оставаться 1000.\n",
      "Начислены проценты 350.00. Баланс: 5350.00\n",
      "\n",
      "--- Инвестиционный счет ---\n",
      "Инвестировано 300.0, на счет зачислено 700.0. Баланс: 2700.0, Портфель: 800.0\n",
      "Начислены проценты 162.000. Баланс: 2862.000\n"
     ]
    }
   ],
   "source": [
    "\n",
    "\n",
    "\n",
    "    public class SavingsAccount\n",
    "    {\n",
    "        public int AccountId { get; set; }\n",
    "        public decimal Balance { get; set; }\n",
    "        public double InterestRate { get; set; } // годовой %\n",
    "\n",
    "        public SavingsAccount(int accountId, decimal initialBalance, double interestRate)\n",
    "        {\n",
    "            AccountId = accountId;\n",
    "            Balance = initialBalance;\n",
    "            InterestRate = interestRate;\n",
    "        }\n",
    "\n",
    "        public virtual void Deposit(decimal amount)\n",
    "        {\n",
    "            Balance += amount;\n",
    "            Console.WriteLine($\"На счет {AccountId} внесено {amount}. Баланс: {Balance}\");\n",
    "        }\n",
    "\n",
    "        public virtual void Withdraw(decimal amount)\n",
    "        {\n",
    "            if (amount <= Balance)\n",
    "            {\n",
    "                Balance -= amount;\n",
    "                Console.WriteLine($\"Со счета {AccountId} снято {amount}. Баланс: {Balance}\");\n",
    "            }\n",
    "            else\n",
    "            {\n",
    "                Console.WriteLine(\"Недостаточно средств!\");\n",
    "            }\n",
    "        }\n",
    "\n",
    "        public virtual void CalculateInterest()\n",
    "        {\n",
    "            decimal interest = Balance * (decimal)(InterestRate / 100);\n",
    "            Balance += interest;\n",
    "            Console.WriteLine($\"Начислены проценты {interest}. Баланс: {Balance}\");\n",
    "        }\n",
    "    }\n",
    "\n",
    "    // 🔹 1. Студенческий счет\n",
    "    public class StudentAccount : SavingsAccount\n",
    "    {\n",
    "        public int YearOfStudy { get; set; }\n",
    "\n",
    "        public StudentAccount(int accountId, decimal initialBalance, double interestRate, int yearOfStudy)\n",
    "            : base(accountId, initialBalance, interestRate)\n",
    "        {\n",
    "            YearOfStudy = yearOfStudy;\n",
    "        }\n",
    "\n",
    "        // Пониженная ставка для студентов\n",
    "        public override void CalculateInterest()\n",
    "        {\n",
    "            double reducedRate = InterestRate / 2; // ставка в 2 раза меньше\n",
    "            decimal interest = Balance * (decimal)(reducedRate / 100);\n",
    "            Balance += interest;\n",
    "            Console.WriteLine($\"Студенту начислены проценты {interest} (ставка {reducedRate}%). Баланс: {Balance}\");\n",
    "        }\n",
    "    }\n",
    "\n",
    "    // 🔹 2. Премиум счет\n",
    "    public class PremiumAccount : SavingsAccount\n",
    "    {\n",
    "        public decimal MinimumBalance { get; set; }\n",
    "\n",
    "        public PremiumAccount(int accountId, decimal initialBalance, double interestRate, decimal minimumBalance)\n",
    "            : base(accountId, initialBalance, interestRate)\n",
    "        {\n",
    "            MinimumBalance = minimumBalance;\n",
    "        }\n",
    "\n",
    "        // Ограничение на снятие\n",
    "        public override void Withdraw(decimal amount)\n",
    "        {\n",
    "            if (Balance - amount >= MinimumBalance)\n",
    "            {\n",
    "                Balance -= amount;\n",
    "                Console.WriteLine($\"С премиум-счета {AccountId} снято {amount}. Баланс: {Balance}\");\n",
    "            }\n",
    "            else\n",
    "            {\n",
    "                Console.WriteLine($\"Нельзя снять {amount}, минимальный баланс должен оставаться {MinimumBalance}.\");\n",
    "            }\n",
    "        }\n",
    "    }\n",
    "\n",
    "    // 🔹 3. Инвестиционный счет\n",
    "    public class InvestmentAccount : SavingsAccount\n",
    "    {\n",
    "        public decimal PortfolioValue { get; private set; }\n",
    "\n",
    "        public InvestmentAccount(int accountId, decimal initialBalance, double interestRate, decimal portfolioValue)\n",
    "            : base(accountId, initialBalance, interestRate)\n",
    "        {\n",
    "            PortfolioValue = portfolioValue;\n",
    "        }\n",
    "\n",
    "        // Часть депозита уходит в инвестиции\n",
    "        public override void Deposit(decimal amount)\n",
    "        {\n",
    "            decimal investPart = amount * 0.3m; // 30% уходит в инвестиции\n",
    "            decimal depositPart = amount - investPart;\n",
    "            Balance += depositPart;\n",
    "            PortfolioValue += investPart;\n",
    "\n",
    "            Console.WriteLine($\"Инвестировано {investPart}, на счет зачислено {depositPart}. Баланс: {Balance}, Портфель: {PortfolioValue}\");\n",
    "        }\n",
    "    }\n",
    "\n",
    "            SavingsAccount account1 = new StudentAccount(1, 1000m, 5, 2);\n",
    "            SavingsAccount account2 = new PremiumAccount(2, 5000m, 7, 1000m);\n",
    "            SavingsAccount account3 = new InvestmentAccount(3, 2000m, 6, 500m);\n",
    "\n",
    "            Console.WriteLine(\"\\n--- Студенческий счет ---\");\n",
    "            account1.Deposit(500);\n",
    "            account1.CalculateInterest();\n",
    "\n",
    "            Console.WriteLine(\"\\n--- Премиум счет ---\");\n",
    "            account2.Withdraw(4500);\n",
    "            account2.CalculateInterest();\n",
    "\n",
    "            Console.WriteLine(\"\\n--- Инвестиционный счет ---\");\n",
    "            account3.Deposit(1000);\n",
    "            account3.CalculateInterest();\n",
    "\n"
   ]
  }
 ],
 "metadata": {
  "kernelspec": {
   "display_name": ".NET (C#)",
   "language": "C#",
   "name": ".net-csharp"
  },
  "polyglot_notebook": {
   "kernelInfo": {
    "defaultKernelName": "csharp",
    "items": [
     {
      "aliases": [],
      "languageName": "csharp",
      "name": "csharp"
     }
    ]
   }
  }
 },
 "nbformat": 4,
 "nbformat_minor": 2
}
