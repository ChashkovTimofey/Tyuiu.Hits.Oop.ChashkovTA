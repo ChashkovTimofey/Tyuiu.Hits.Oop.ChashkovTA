{
 "cells": [
  {
   "cell_type": "markdown",
   "metadata": {},
   "source": [
    "<h1 style=\"color:DodgerBlue\">Первая программа в Polyglot Notebooks</h1>\n"
   ]
  },
  {
   "cell_type": "markdown",
   "metadata": {},
   "source": [
    "**Polyglot Notebooks** — это расширение для Visual Studio Code, которое позволяет использовать различные языки программирования в одном блокноте с полной поддержкой языковых серверов.\n",
    "\n",
    "Оно также позволяет пользователям делиться переменными между языками, обеспечивая непрерывный рабочий процесс. Это позволяет избежать переключения между разными инструментами и ручной передачи данных, что может прерывать рабочий процесс.\n",
    "\n",
    "Polyglot Notebooks — это инструмент от Microsoft, который сочетает Markdown и код. Он позволяет использовать несколько языков в одном блокноте.\n",
    "\n",
    "Polyglot Notebooks позволяют пользователям:\n",
    "\n",
    "* обогащать код документацией (в формате Markdown);\n",
    "* выводить результаты и визуализировать их;\n",
    "* выполнять блоки кода по отдельности и даже объединять их.\n",
    "\n",
    "В отличие от Jupyter Notebooks, которые часто используются для Python, Polyglot Notebooks предназначены для работы с несколькими языками в одном блокноте.\n",
    "\n",
    "Polyglot Notebooks поддерживают следующие языки:\n",
    "\n",
    "* C# \n",
    "* F#\n",
    "* PowerShell\n",
    "* JavaScript\n",
    "* HTML\n",
    "* Mermaid\n",
    "* SQL\n",
    "* KQL (Kusto Query Language)"
   ]
  },
  {
   "cell_type": "markdown",
   "metadata": {},
   "source": [
    "**Markdown** — облегчённый язык разметки, созданный с целью обозначения форматирования в простом тексте, с максимальным сохранением его читаемости человеком, и пригодный для машинного преобразования в языки для продвинутых публикаций (HTML, Rich Text и других).\n",
    "\n",
    "Markdown поддерживает использование прямого HTML внутри документа, так что вы можете использовать любые HTML-теги для более сложного оформления.\n",
    "\n",
    "\n",
    "\n",
    "Создавайте расширенное форматирование текста и кода с помощью простого синтаксиса Markdown.\n",
    "\n",
    "**Смотрите подробнее:** https://docs.github.com/ru/get-started/writing-on-github/getting-started-with-writing-and-formatting-on-github/basic-writing-and-formatting-syntax"
   ]
  },
  {
   "cell_type": "markdown",
   "metadata": {},
   "source": [
    "\n",
    "<h4 style=\"color:DodgerBlue\">Пример кода на языке C#</h4>\n",
    "\n",
    "----"
   ]
  },
  {
   "cell_type": "code",
   "execution_count": null,
   "metadata": {
    "dotnet_interactive": {
     "language": "csharp"
    },
    "polyglot_notebook": {
     "kernelName": "csharp"
    }
   },
   "outputs": [],
   "source": [
    "string Name = \"Игорь\";\n",
    "int Age = 45;\n",
    "Console.WriteLine($\"Здраствуйте {Name}. Вам {Age} лет!\");\n",
    "Console.WriteLine(\"Добро пожаловать в C#\");"
   ]
  },
  {
   "cell_type": "markdown",
   "metadata": {},
   "source": [
    "<h4 style=\"color:Red\">Особенности работы в Polyglot Notebooks:</h4>\n",
    "\n",
    "----\n",
    "\n",
    "НЕЛЬЗЯ ИСПОЛЬЗОВАТЬ МЕТОД \n",
    "\n",
    "```csharp\n",
    "Console.ReadLine() \n",
    "```\n",
    "\n",
    "##### Этот код не будет работать в Polyglot Notebooks\n",
    "```csharp\n",
    "Console.Write(\"Введите ваше имя: \");\n",
    "string name = Console.ReadLine();\n",
    "Console.WriteLine($\"Привет, {name}!\");\n",
    "```\n",
    "ВЫХОД:\n",
    "1. Использовать статический способ присвоения значений переменным\n",
    "2. Запрашивать данные из файла"
   ]
  },
  {
   "cell_type": "markdown",
   "metadata": {},
   "source": [
    "<h4 style=\"color:Red\">Задание:</h4>\n",
    "\n",
    "----\n",
    "\n",
    "#### Ниже в блоке (Code) решите задачу\n",
    "\n",
    "Дан целочисленный массив numbers со следующими элементами { 5, 8, 1, 3, 9, 6, 7, 2 }, нужно выполнить следующие операции:\n",
    "1.\tНайти минимальное и максимальное значения в массиве.\n",
    "2.\tНайти сумму всех элементов массива.\n",
    "3.\tНайти среднее арифметическое всех элементов массива.\n",
    "4.\tОтсортировать массив в порядке возрастания.\n",
    "5.\tПроверить, содержит ли массив определенное число.\n"
   ]
  },
  {
   "cell_type": "code",
   "execution_count": null,
   "metadata": {
    "dotnet_interactive": {
     "language": "csharp"
    },
    "polyglot_notebook": {
     "kernelName": "csharp"
    }
   },
   "outputs": [],
   "source": [
    "int[] numbers = { 5, 8, 1, 3, 9, 6, 7, 2 };\n",
    "//1\n",
    "int min = numbers.Min();\n",
    "int max = numbers.Max();\n",
    "//2 \n",
    "int sum = numbers.Sum();\n",
    "// 3\n",
    "double average = numbers.Average();\n",
    "// 4. \n",
    "int[] sorted = numbers.OrderBy(x => x).ToArray();\n",
    "// 5. \n",
    "int searchValue = 3; // можно менять на любое число.\n",
    "bool contains = numbers.Contains(searchValue);\n",
    "\n",
    "Console.WriteLine($\"Минимум: {min}\");\n",
    "Console.WriteLine($\"Максимум: {max}\");\n",
    "Console.WriteLine($\"Сумма: {sum}\");\n",
    "Console.WriteLine($\"Среднее: {average}\");\n",
    "Console.WriteLine(\"Отсортированный массив: \" + string.Join(\", \", sorted));\n",
    "Console.WriteLine($\"Содержит ли массив число {searchValue}? {contains}\");"
   ]
  },
  {
   "cell_type": "markdown",
   "metadata": {},
   "source": [
    "Минимум: 1\n",
    "Максимум: 9\n",
    "Сумма: 41\n",
    "Среднее: 5.125\n",
    "Отсортированный массив: 1, 2, 3, 5, 6, 7, 8, 9\n",
    "Содержит ли массив число 3? True\n"
   ]
  }
 ],
 "metadata": {
  "kernelspec": {
   "display_name": ".NET (C#)",
   "language": "C#",
   "name": ".net-csharp"
  },
  "polyglot_notebook": {
   "kernelInfo": {
    "defaultKernelName": "csharp",
    "items": [
     {
      "aliases": [],
      "languageName": "csharp",
      "name": "csharp"
     }
    ]
   }
  }
 },
 "nbformat": 4,
 "nbformat_minor": 2
}
